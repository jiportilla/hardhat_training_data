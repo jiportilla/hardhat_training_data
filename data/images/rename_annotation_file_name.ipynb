{
 "cells": [
  {
   "cell_type": "code",
   "execution_count": 4,
   "metadata": {},
   "outputs": [],
   "source": [
    "import os\n",
    "from shutil import copyfile"
   ]
  },
  {
   "cell_type": "code",
   "execution_count": 37,
   "metadata": {},
   "outputs": [],
   "source": [
    "xml=sorted([i for i in os.listdir('test') if '.xml' in i])\n",
    "jpg=sorted([i for i in os.listdir('test') if '.jpeg' in i])"
   ]
  },
  {
   "cell_type": "code",
   "execution_count": 38,
   "metadata": {},
   "outputs": [],
   "source": [
    "count=0\n",
    "for x,j in zip(xml,jpg):\n",
    "    copyfile('test/'+x, 'test_/test_{}_'.format(count)+'.xml')\n",
    "    copyfile('test/'+j, 'test_/test_{}_'.format(count)+'.jpeg')\n",
    "    count+=1"
   ]
  },
  {
   "cell_type": "code",
   "execution_count": 39,
   "metadata": {},
   "outputs": [],
   "source": [
    "xml=sorted([i for i in os.listdir('train') if '.xml' in i])\n",
    "jpg=sorted([i for i in os.listdir('train') if '.jpeg' in i])"
   ]
  },
  {
   "cell_type": "code",
   "execution_count": 40,
   "metadata": {},
   "outputs": [],
   "source": [
    "for x,j in zip(xml,jpg):\n",
    "    copyfile('train/'+x, 'train_/train_{}_'.format(count)+'.xml')\n",
    "    copyfile('train/'+j, 'train_/train_{}_'.format(count)+'.jpeg')\n",
    "    count+=1"
   ]
  },
  {
   "cell_type": "code",
   "execution_count": 41,
   "metadata": {},
   "outputs": [
    {
     "name": "stdout",
     "output_type": "stream",
     "text": [
      "384\n",
      "1538\n"
     ]
    }
   ],
   "source": [
    "print(len(os.listdir('test_')))\n",
    "print(len(os.listdir('train_')))"
   ]
  },
  {
   "cell_type": "code",
   "execution_count": null,
   "metadata": {},
   "outputs": [],
   "source": []
  }
 ],
 "metadata": {
  "kernelspec": {
   "display_name": "Python 3",
   "language": "python",
   "name": "python3"
  },
  "language_info": {
   "codemirror_mode": {
    "name": "ipython",
    "version": 3
   },
   "file_extension": ".py",
   "mimetype": "text/x-python",
   "name": "python",
   "nbconvert_exporter": "python",
   "pygments_lexer": "ipython3",
   "version": "3.6.7"
  }
 },
 "nbformat": 4,
 "nbformat_minor": 2
}
